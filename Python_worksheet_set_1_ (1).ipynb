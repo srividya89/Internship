{
  "nbformat": 4,
  "nbformat_minor": 0,
  "metadata": {
    "colab": {
      "name": "Python worksheet set 1 .ipynb",
      "provenance": [],
      "collapsed_sections": []
    },
    "kernelspec": {
      "name": "python3",
      "display_name": "Python 3"
    },
    "language_info": {
      "name": "python"
    }
  },
  "cells": [
    {
      "cell_type": "markdown",
      "metadata": {
        "id": "QN9_brGpuHBL"
      },
      "source": [
        "PYTHON WORKSHEET SET 1"
      ]
    },
    {
      "cell_type": "markdown",
      "metadata": {
        "id": "YNoq6RiQjBvT"
      },
      "source": [
        "Q2.)"
      ]
    },
    {
      "cell_type": "code",
      "metadata": {
        "colab": {
          "base_uri": "https://localhost:8080/"
        },
        "id": "_SZ9kdpsuPPI",
        "outputId": "d83507b3-933a-41cb-94a1-8e4eee773249"
      },
      "source": [
        "2//3"
      ],
      "execution_count": null,
      "outputs": [
        {
          "output_type": "execute_result",
          "data": {
            "text/plain": [
              "0"
            ]
          },
          "metadata": {
            "tags": []
          },
          "execution_count": 1
        }
      ]
    },
    {
      "cell_type": "markdown",
      "metadata": {
        "id": "LztdL7GLjE3R"
      },
      "source": [
        "Q3.)\n"
      ]
    },
    {
      "cell_type": "code",
      "metadata": {
        "colab": {
          "base_uri": "https://localhost:8080/"
        },
        "id": "tIyTYS4uugJn",
        "outputId": "dcca5b72-2eb4-4b9f-9307-be01665151cf"
      },
      "source": [
        "6<<2"
      ],
      "execution_count": null,
      "outputs": [
        {
          "output_type": "execute_result",
          "data": {
            "text/plain": [
              "24"
            ]
          },
          "metadata": {
            "tags": []
          },
          "execution_count": 2
        }
      ]
    },
    {
      "cell_type": "markdown",
      "metadata": {
        "id": "MVc8KZ34jKDi"
      },
      "source": [
        "Q4.)"
      ]
    },
    {
      "cell_type": "code",
      "metadata": {
        "colab": {
          "base_uri": "https://localhost:8080/"
        },
        "id": "OrXCyKcEulMu",
        "outputId": "9185a34d-005d-451f-eff7-b06551748390"
      },
      "source": [
        "6&2"
      ],
      "execution_count": null,
      "outputs": [
        {
          "output_type": "execute_result",
          "data": {
            "text/plain": [
              "2"
            ]
          },
          "metadata": {
            "tags": []
          },
          "execution_count": 3
        }
      ]
    },
    {
      "cell_type": "markdown",
      "metadata": {
        "id": "52OUT-PSjNMB"
      },
      "source": [
        "Q5.)"
      ]
    },
    {
      "cell_type": "code",
      "metadata": {
        "colab": {
          "base_uri": "https://localhost:8080/"
        },
        "id": "IqoeK9rsuovO",
        "outputId": "ab36dc82-b842-451c-d64e-e2a71e15dca0"
      },
      "source": [
        "6|2"
      ],
      "execution_count": null,
      "outputs": [
        {
          "output_type": "execute_result",
          "data": {
            "text/plain": [
              "6"
            ]
          },
          "metadata": {
            "tags": []
          },
          "execution_count": 4
        }
      ]
    },
    {
      "cell_type": "markdown",
      "metadata": {
        "id": "MRCRcPJ6jYqT"
      },
      "source": [
        "Q11.)"
      ]
    },
    {
      "cell_type": "code",
      "metadata": {
        "id": "o8HTlPBEuttG",
        "colab": {
          "base_uri": "https://localhost:8080/"
        },
        "outputId": "f04d8796-61c2-4b16-809c-849489688e9b"
      },
      "source": [
        "# factorial of given number\n",
        "def factorial(n):\n",
        "     \n",
        "     # single line to find factorial\n",
        "    return 1 if (n==1 or n==0) else n * factorial(n - 1);\n",
        " \n",
        "# Driver Code\n",
        "num = 5;\n",
        "print(\"Factorial of\",num,\"is\",factorial(num))"
      ],
      "execution_count": null,
      "outputs": [
        {
          "output_type": "stream",
          "text": [
            "Factorial of 5 is 120\n"
          ],
          "name": "stdout"
        }
      ]
    },
    {
      "cell_type": "markdown",
      "metadata": {
        "id": "u-Mxud4SjcoZ"
      },
      "source": [
        "Q12.)"
      ]
    },
    {
      "cell_type": "code",
      "metadata": {
        "colab": {
          "base_uri": "https://localhost:8080/"
        },
        "id": "FHCklcr4_Rp8",
        "outputId": "8513e641-17fc-4c9d-abe2-b22395dd5c73"
      },
      "source": [
        "# Python program to check if\n",
        "# given number is prime or composite\n",
        "  \n",
        "num = int(input(\"Enter a number: \"))\n",
        "\n",
        "  \n",
        "# If given number is greater than 1\n",
        "if num > 1:\n",
        "  \n",
        "    # Iterate from 2 to n / 2\n",
        "    for i in range(2, int(num/2)+1):\n",
        "  \n",
        "        # If num is divisible by any number between\n",
        "        # 2 and n / 2, it is not prime\n",
        "        if (num % i) == 0:\n",
        "            print(num, \"is composite number\")\n",
        "            break\n",
        "    else:\n",
        "        print(num, \"is a prime number\")\n",
        "  \n",
        "else:\n",
        "    print(num, \"is neither prime nor composite number\")"
      ],
      "execution_count": null,
      "outputs": [
        {
          "output_type": "stream",
          "text": [
            "Enter a number: 4\n",
            "4 is composite number\n"
          ],
          "name": "stdout"
        }
      ]
    },
    {
      "cell_type": "markdown",
      "metadata": {
        "id": "9IJ8EKsnjgLZ"
      },
      "source": [
        "Q13.)"
      ]
    },
    {
      "cell_type": "code",
      "metadata": {
        "colab": {
          "base_uri": "https://localhost:8080/"
        },
        "id": "d099WBFoDh7-",
        "outputId": "89ef8388-9396-49c9-9253-22d3a657f0d4"
      },
      "source": [
        "# function to check string is\n",
        "# palindrome or not\n",
        "def isPalindrome(str):\n",
        " \n",
        "    # Run loop from 0 to len/2\n",
        "    for i in range(0, int(len(str)/2)):\n",
        "        if str[i] != str[len(str)-i-1]:\n",
        "            return False\n",
        "    return True\n",
        " \n",
        "# main function\n",
        "s = input(\"Enter the word: \")\n",
        "ans = isPalindrome(s)\n",
        " \n",
        "if (ans):\n",
        "    print(\"Yes. Its a palindrome \")\n",
        "else:\n",
        "    print(\"No. Its not a palindrome \")"
      ],
      "execution_count": null,
      "outputs": [
        {
          "output_type": "stream",
          "text": [
            "Enter the word: liril\n",
            "Yes. Its a palindrome \n"
          ],
          "name": "stdout"
        }
      ]
    },
    {
      "cell_type": "markdown",
      "metadata": {
        "id": "2Olrl1ufjjUx"
      },
      "source": [
        "Q14.)"
      ]
    },
    {
      "cell_type": "code",
      "metadata": {
        "colab": {
          "base_uri": "https://localhost:8080/"
        },
        "id": "C95yzGhxE7DH",
        "outputId": "87ab80d2-0b33-4121-f686-4b915989d9ed"
      },
      "source": [
        "\n",
        " \n",
        "# Function to return the hypotenuse of the\n",
        "# right angled triangle from two given sides\n",
        "def findHypotenuse(side1, side2):\n",
        " \n",
        "    h = (((side1 * side1) + (side2 * side2))**(1/2));\n",
        "    return h;\n",
        " \n",
        "# Driver code\n",
        "side1 = 3;\n",
        "side2 = 4;\n",
        " \n",
        "print(findHypotenuse(side1, side2));"
      ],
      "execution_count": null,
      "outputs": [
        {
          "output_type": "stream",
          "text": [
            "5.0\n"
          ],
          "name": "stdout"
        }
      ]
    },
    {
      "cell_type": "markdown",
      "metadata": {
        "id": "pK8yyusJjmtD"
      },
      "source": [
        "Q15.)"
      ]
    },
    {
      "cell_type": "code",
      "metadata": {
        "colab": {
          "base_uri": "https://localhost:8080/"
        },
        "id": "UqaVnPPfFvMs",
        "outputId": "910544d2-1086-415d-b9f1-7f1168c0334e"
      },
      "source": [
        "# Python3 code to demonstrate \n",
        "# each character occurrence in string using \n",
        "# set() + count()\n",
        "  \n",
        "# initializing string \n",
        "test_str = \"Happy Independence Day\"\n",
        "  \n",
        "# using set() + count() to get count \n",
        "# of each element in string \n",
        "res = {i : test_str.count(i) for i in set(test_str)}\n",
        "  \n",
        "# printing result \n",
        "print (\"The count of all characters in the string 'Happy Independence Day' is :\\n \"\n",
        "                                               +  str(res))"
      ],
      "execution_count": null,
      "outputs": [
        {
          "output_type": "stream",
          "text": [
            "The count of all characters in the string 'HappyIndependenceDay' is :\n",
            " {'D': 1, 'd': 2, 'e': 4, 'c': 1, 'p': 3, ' ': 2, 'H': 1, 'y': 2, 'a': 2, 'I': 1, 'n': 3}\n"
          ],
          "name": "stdout"
        }
      ]
    },
    {
      "cell_type": "code",
      "metadata": {
        "id": "v_KpDflKCTcv"
      },
      "source": [
        ""
      ],
      "execution_count": null,
      "outputs": []
    }
  ]
}